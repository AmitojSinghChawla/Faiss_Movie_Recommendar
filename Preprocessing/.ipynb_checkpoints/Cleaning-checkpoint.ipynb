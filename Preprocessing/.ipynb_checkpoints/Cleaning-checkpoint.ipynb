{
 "cells": [
  {
   "cell_type": "code",
   "execution_count": 2,
   "id": "4608f8e4-3ff3-4821-b5b4-cf7f17b1972e",
   "metadata": {},
   "outputs": [
    {
     "data": {
      "text/plain": [
       "'C:\\\\Users\\\\amito\\\\PycharmProjects\\\\Faiss_Recommendar\\\\Preprocessing'"
      ]
     },
     "execution_count": 2,
     "metadata": {},
     "output_type": "execute_result"
    }
   ],
   "source": [
    "import os\n",
    "os.getcwd()\n"
   ]
  },
  {
   "cell_type": "code",
   "execution_count": 12,
   "id": "ea352aac-6fbd-4d8e-9041-d594ac515fed",
   "metadata": {},
   "outputs": [],
   "source": [
    "import pandas as pd\n",
    "\n",
    "data=pd.read_csv(\"C:/Users/amito/PycharmProjects/Faiss_Recommendar/Raw_Data/movies_cleaned.csv\")\n",
    "data_df=pd.DataFrame(data)\n",
    "\n",
    "pd.set_option('display.max_columns', None)\n",
    "pd.set_option('display.width', None)  # Prevent line wrapping\n",
    "\n"
   ]
  },
  {
   "cell_type": "code",
   "execution_count": 13,
   "id": "d99b8353-bb84-4af8-afe1-2dc3d93717e2",
   "metadata": {},
   "outputs": [
    {
     "data": {
      "text/html": [
       "<div>\n",
       "<style scoped>\n",
       "    .dataframe tbody tr th:only-of-type {\n",
       "        vertical-align: middle;\n",
       "    }\n",
       "\n",
       "    .dataframe tbody tr th {\n",
       "        vertical-align: top;\n",
       "    }\n",
       "\n",
       "    .dataframe thead th {\n",
       "        text-align: right;\n",
       "    }\n",
       "</style>\n",
       "<table border=\"1\" class=\"dataframe\">\n",
       "  <thead>\n",
       "    <tr style=\"text-align: right;\">\n",
       "      <th></th>\n",
       "      <th>Unnamed: 0</th>\n",
       "      <th>id</th>\n",
       "      <th>title</th>\n",
       "      <th>genres</th>\n",
       "      <th>overview</th>\n",
       "      <th>poster_path</th>\n",
       "      <th>original_language</th>\n",
       "      <th>popularity</th>\n",
       "      <th>keywords</th>\n",
       "    </tr>\n",
       "  </thead>\n",
       "  <tbody>\n",
       "    <tr>\n",
       "      <th>0</th>\n",
       "      <td>0</td>\n",
       "      <td>27205</td>\n",
       "      <td>Inception</td>\n",
       "      <td>['Action', 'Science Fiction', 'Adventure']</td>\n",
       "      <td>Cobb, a skilled thief who commits corporate es...</td>\n",
       "      <td>/oYuLEt3zVCKq57qu2F8dT7NIa6f.jpg</td>\n",
       "      <td>en</td>\n",
       "      <td>83.952</td>\n",
       "      <td>['rescue', 'mission', 'dream', 'airplane', 'pa...</td>\n",
       "    </tr>\n",
       "    <tr>\n",
       "      <th>1</th>\n",
       "      <td>1</td>\n",
       "      <td>157336</td>\n",
       "      <td>Interstellar</td>\n",
       "      <td>['Adventure', 'Drama', 'Science Fiction']</td>\n",
       "      <td>The adventures of a group of explorers who mak...</td>\n",
       "      <td>/gEU2QniE6E77NI6lCU6MxlNBvIx.jpg</td>\n",
       "      <td>en</td>\n",
       "      <td>140.241</td>\n",
       "      <td>['rescue', 'future', 'spacecraft', 'race again...</td>\n",
       "    </tr>\n",
       "    <tr>\n",
       "      <th>2</th>\n",
       "      <td>2</td>\n",
       "      <td>155</td>\n",
       "      <td>The Dark Knight</td>\n",
       "      <td>['Drama', 'Action', 'Crime', 'Thriller']</td>\n",
       "      <td>Batman raises the stakes in his war on crime. ...</td>\n",
       "      <td>/qJ2tW6WMUDux911r6m7haRef0WH.jpg</td>\n",
       "      <td>en</td>\n",
       "      <td>130.643</td>\n",
       "      <td>['joker', 'sadism', 'chaos', 'secret identity'...</td>\n",
       "    </tr>\n",
       "    <tr>\n",
       "      <th>3</th>\n",
       "      <td>3</td>\n",
       "      <td>19995</td>\n",
       "      <td>Avatar</td>\n",
       "      <td>['Action', 'Adventure', 'Fantasy', 'Science Fi...</td>\n",
       "      <td>In the 22nd century, a paraplegic Marine is di...</td>\n",
       "      <td>/kyeqWdyUXW608qlYkRqosgbbJyK.jpg</td>\n",
       "      <td>en</td>\n",
       "      <td>79.932</td>\n",
       "      <td>['future', 'society', 'culture clash', 'space ...</td>\n",
       "    </tr>\n",
       "    <tr>\n",
       "      <th>4</th>\n",
       "      <td>4</td>\n",
       "      <td>24428</td>\n",
       "      <td>The Avengers</td>\n",
       "      <td>['Science Fiction', 'Action', 'Adventure']</td>\n",
       "      <td>When an unexpected enemy emerges and threatens...</td>\n",
       "      <td>/RYMX2wcKCBAr24UyPD7xwmjaTn.jpg</td>\n",
       "      <td>en</td>\n",
       "      <td>98.082</td>\n",
       "      <td>['new york city', 'superhero', 'shield', 'base...</td>\n",
       "    </tr>\n",
       "  </tbody>\n",
       "</table>\n",
       "</div>"
      ],
      "text/plain": [
       "   Unnamed: 0      id            title  \\\n",
       "0           0   27205        Inception   \n",
       "1           1  157336     Interstellar   \n",
       "2           2     155  The Dark Knight   \n",
       "3           3   19995           Avatar   \n",
       "4           4   24428     The Avengers   \n",
       "\n",
       "                                              genres  \\\n",
       "0         ['Action', 'Science Fiction', 'Adventure']   \n",
       "1          ['Adventure', 'Drama', 'Science Fiction']   \n",
       "2           ['Drama', 'Action', 'Crime', 'Thriller']   \n",
       "3  ['Action', 'Adventure', 'Fantasy', 'Science Fi...   \n",
       "4         ['Science Fiction', 'Action', 'Adventure']   \n",
       "\n",
       "                                            overview  \\\n",
       "0  Cobb, a skilled thief who commits corporate es...   \n",
       "1  The adventures of a group of explorers who mak...   \n",
       "2  Batman raises the stakes in his war on crime. ...   \n",
       "3  In the 22nd century, a paraplegic Marine is di...   \n",
       "4  When an unexpected enemy emerges and threatens...   \n",
       "\n",
       "                        poster_path original_language  popularity  \\\n",
       "0  /oYuLEt3zVCKq57qu2F8dT7NIa6f.jpg                en      83.952   \n",
       "1  /gEU2QniE6E77NI6lCU6MxlNBvIx.jpg                en     140.241   \n",
       "2  /qJ2tW6WMUDux911r6m7haRef0WH.jpg                en     130.643   \n",
       "3  /kyeqWdyUXW608qlYkRqosgbbJyK.jpg                en      79.932   \n",
       "4   /RYMX2wcKCBAr24UyPD7xwmjaTn.jpg                en      98.082   \n",
       "\n",
       "                                            keywords  \n",
       "0  ['rescue', 'mission', 'dream', 'airplane', 'pa...  \n",
       "1  ['rescue', 'future', 'spacecraft', 'race again...  \n",
       "2  ['joker', 'sadism', 'chaos', 'secret identity'...  \n",
       "3  ['future', 'society', 'culture clash', 'space ...  \n",
       "4  ['new york city', 'superhero', 'shield', 'base...  "
      ]
     },
     "execution_count": 13,
     "metadata": {},
     "output_type": "execute_result"
    }
   ],
   "source": [
    "data_df.head()"
   ]
  },
  {
   "cell_type": "code",
   "execution_count": 14,
   "id": "7a5b4044-7205-4358-947f-037e4bed4220",
   "metadata": {},
   "outputs": [
    {
     "data": {
      "text/plain": [
       "Unnamed: 0           0\n",
       "id                   0\n",
       "title                0\n",
       "genres               0\n",
       "overview             0\n",
       "poster_path          0\n",
       "original_language    0\n",
       "popularity           0\n",
       "keywords             0\n",
       "dtype: int64"
      ]
     },
     "execution_count": 14,
     "metadata": {},
     "output_type": "execute_result"
    }
   ],
   "source": [
    "data_df.isnull().sum()"
   ]
  },
  {
   "cell_type": "code",
   "execution_count": 15,
   "id": "e5e5da3d-7d7a-43c7-94df-027851e99f0d",
   "metadata": {},
   "outputs": [
    {
     "data": {
      "text/plain": [
       "(1210768, 9)"
      ]
     },
     "execution_count": 15,
     "metadata": {},
     "output_type": "execute_result"
    }
   ],
   "source": [
    "data_df.shape"
   ]
  },
  {
   "cell_type": "code",
   "execution_count": 18,
   "id": "f1b39774-32d7-474d-bcb4-36dd04c5bd03",
   "metadata": {},
   "outputs": [
    {
     "data": {
      "text/plain": [
       "0    ['rescue', 'mission', 'dream', 'airplane', 'pa...\n",
       "1    ['rescue', 'future', 'spacecraft', 'race again...\n",
       "2    ['joker', 'sadism', 'chaos', 'secret identity'...\n",
       "3    ['future', 'society', 'culture clash', 'space ...\n",
       "4    ['new york city', 'superhero', 'shield', 'base...\n",
       "Name: keywords, dtype: object"
      ]
     },
     "execution_count": 18,
     "metadata": {},
     "output_type": "execute_result"
    }
   ],
   "source": [
    "data_df[\"keywords\"].head()"
   ]
  },
  {
   "cell_type": "code",
   "execution_count": null,
   "id": "2d9beab3-4adc-4d90-bc96-fa0b2f6e72e0",
   "metadata": {},
   "outputs": [],
   "source": []
  }
 ],
 "metadata": {
  "kernelspec": {
   "display_name": "Python (venv)",
   "language": "python",
   "name": "venv"
  },
  "language_info": {
   "codemirror_mode": {
    "name": "ipython",
    "version": 3
   },
   "file_extension": ".py",
   "mimetype": "text/x-python",
   "name": "python",
   "nbconvert_exporter": "python",
   "pygments_lexer": "ipython3",
   "version": "3.13.5"
  }
 },
 "nbformat": 4,
 "nbformat_minor": 5
}
